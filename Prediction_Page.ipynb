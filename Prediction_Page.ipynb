{
 "cells": [
  {
   "cell_type": "code",
   "execution_count": 1,
   "id": "86415b07",
   "metadata": {},
   "outputs": [],
   "source": [
    "import pandas as pd\n",
    "import numpy as np\n",
    "from sklearn import datasets, linear_model, metrics\n",
    "import matplotlib.pyplot as plt\n",
    "from sklearn.linear_model import LinearRegression\n",
    "from sklearn.model_selection import train_test_split\n",
    "from sklearn.preprocessing import StandardScaler\n",
    "from sklearn.metrics import mean_squared_error\n",
    "from sklearn.preprocessing import LabelEncoder"
   ]
  },
  {
   "cell_type": "code",
   "execution_count": 2,
   "id": "fdb4c5bd",
   "metadata": {},
   "outputs": [
    {
     "data": {
      "text/html": [
       "<div>\n",
       "<style scoped>\n",
       "    .dataframe tbody tr th:only-of-type {\n",
       "        vertical-align: middle;\n",
       "    }\n",
       "\n",
       "    .dataframe tbody tr th {\n",
       "        vertical-align: top;\n",
       "    }\n",
       "\n",
       "    .dataframe thead th {\n",
       "        text-align: right;\n",
       "    }\n",
       "</style>\n",
       "<table border=\"1\" class=\"dataframe\">\n",
       "  <thead>\n",
       "    <tr style=\"text-align: right;\">\n",
       "      <th></th>\n",
       "      <th>Unnamed: 0</th>\n",
       "      <th>STATE</th>\n",
       "      <th>YEAR</th>\n",
       "      <th>MONTH_NAME</th>\n",
       "      <th>EVENT_TYPE</th>\n",
       "      <th>COUNTY_NAME</th>\n",
       "      <th>COUNTY_TIMEZONE</th>\n",
       "      <th>DAMAGE_PROPERTY</th>\n",
       "      <th>DAMAGE_CROPS</th>\n",
       "    </tr>\n",
       "  </thead>\n",
       "  <tbody>\n",
       "    <tr>\n",
       "      <th>0</th>\n",
       "      <td>0</td>\n",
       "      <td>NEW HAMPSHIRE</td>\n",
       "      <td>2013</td>\n",
       "      <td>February</td>\n",
       "      <td>Winter Weather</td>\n",
       "      <td>EASTERN HILLSBOROUGH</td>\n",
       "      <td>EST-5</td>\n",
       "      <td>0.0</td>\n",
       "      <td>0.0</td>\n",
       "    </tr>\n",
       "    <tr>\n",
       "      <th>1</th>\n",
       "      <td>1</td>\n",
       "      <td>NEW HAMPSHIRE</td>\n",
       "      <td>2013</td>\n",
       "      <td>December</td>\n",
       "      <td>Heavy Snow</td>\n",
       "      <td>EASTERN HILLSBOROUGH</td>\n",
       "      <td>EST-5</td>\n",
       "      <td>0.0</td>\n",
       "      <td>0.0</td>\n",
       "    </tr>\n",
       "    <tr>\n",
       "      <th>2</th>\n",
       "      <td>2</td>\n",
       "      <td>NEW HAMPSHIRE</td>\n",
       "      <td>2013</td>\n",
       "      <td>March</td>\n",
       "      <td>Heavy Snow</td>\n",
       "      <td>EASTERN HILLSBOROUGH</td>\n",
       "      <td>EST-5</td>\n",
       "      <td>0.0</td>\n",
       "      <td>0.0</td>\n",
       "    </tr>\n",
       "    <tr>\n",
       "      <th>3</th>\n",
       "      <td>3</td>\n",
       "      <td>NEW HAMPSHIRE</td>\n",
       "      <td>2013</td>\n",
       "      <td>October</td>\n",
       "      <td>Strong Wind</td>\n",
       "      <td>EASTERN HILLSBOROUGH</td>\n",
       "      <td>EST-5</td>\n",
       "      <td>3000.0</td>\n",
       "      <td>0.0</td>\n",
       "    </tr>\n",
       "    <tr>\n",
       "      <th>4</th>\n",
       "      <td>4</td>\n",
       "      <td>NEW HAMPSHIRE</td>\n",
       "      <td>2013</td>\n",
       "      <td>February</td>\n",
       "      <td>Heavy Snow</td>\n",
       "      <td>EASTERN HILLSBOROUGH</td>\n",
       "      <td>EST-5</td>\n",
       "      <td>0.0</td>\n",
       "      <td>0.0</td>\n",
       "    </tr>\n",
       "    <tr>\n",
       "      <th>...</th>\n",
       "      <td>...</td>\n",
       "      <td>...</td>\n",
       "      <td>...</td>\n",
       "      <td>...</td>\n",
       "      <td>...</td>\n",
       "      <td>...</td>\n",
       "      <td>...</td>\n",
       "      <td>...</td>\n",
       "      <td>...</td>\n",
       "    </tr>\n",
       "    <tr>\n",
       "      <th>608742</th>\n",
       "      <td>56395</td>\n",
       "      <td>IOWA</td>\n",
       "      <td>2006</td>\n",
       "      <td>October</td>\n",
       "      <td>Hail</td>\n",
       "      <td>MITCHELL</td>\n",
       "      <td>CST-6</td>\n",
       "      <td>65000.0</td>\n",
       "      <td>80000.0</td>\n",
       "    </tr>\n",
       "    <tr>\n",
       "      <th>608743</th>\n",
       "      <td>56396</td>\n",
       "      <td>IOWA</td>\n",
       "      <td>2006</td>\n",
       "      <td>October</td>\n",
       "      <td>Hail</td>\n",
       "      <td>HOWARD</td>\n",
       "      <td>CST-6</td>\n",
       "      <td>50000.0</td>\n",
       "      <td>75000.0</td>\n",
       "    </tr>\n",
       "    <tr>\n",
       "      <th>608744</th>\n",
       "      <td>56397</td>\n",
       "      <td>IOWA</td>\n",
       "      <td>2006</td>\n",
       "      <td>October</td>\n",
       "      <td>Hail</td>\n",
       "      <td>WINNESHIEK</td>\n",
       "      <td>CST-6</td>\n",
       "      <td>5000.0</td>\n",
       "      <td>10000.0</td>\n",
       "    </tr>\n",
       "    <tr>\n",
       "      <th>608745</th>\n",
       "      <td>56398</td>\n",
       "      <td>IOWA</td>\n",
       "      <td>2006</td>\n",
       "      <td>October</td>\n",
       "      <td>Hail</td>\n",
       "      <td>MITCHELL</td>\n",
       "      <td>CST-6</td>\n",
       "      <td>80000.0</td>\n",
       "      <td>100000.0</td>\n",
       "    </tr>\n",
       "    <tr>\n",
       "      <th>608746</th>\n",
       "      <td>56399</td>\n",
       "      <td>WISCONSIN</td>\n",
       "      <td>2006</td>\n",
       "      <td>October</td>\n",
       "      <td>Hail</td>\n",
       "      <td>ADAMS</td>\n",
       "      <td>CST-6</td>\n",
       "      <td>10000.0</td>\n",
       "      <td>20000.0</td>\n",
       "    </tr>\n",
       "  </tbody>\n",
       "</table>\n",
       "<p>608747 rows × 9 columns</p>\n",
       "</div>"
      ],
      "text/plain": [
       "        Unnamed: 0          STATE  YEAR MONTH_NAME      EVENT_TYPE  \\\n",
       "0                0  NEW HAMPSHIRE  2013   February  Winter Weather   \n",
       "1                1  NEW HAMPSHIRE  2013   December      Heavy Snow   \n",
       "2                2  NEW HAMPSHIRE  2013      March      Heavy Snow   \n",
       "3                3  NEW HAMPSHIRE  2013    October     Strong Wind   \n",
       "4                4  NEW HAMPSHIRE  2013   February      Heavy Snow   \n",
       "...            ...            ...   ...        ...             ...   \n",
       "608742       56395           IOWA  2006    October            Hail   \n",
       "608743       56396           IOWA  2006    October            Hail   \n",
       "608744       56397           IOWA  2006    October            Hail   \n",
       "608745       56398           IOWA  2006    October            Hail   \n",
       "608746       56399      WISCONSIN  2006    October            Hail   \n",
       "\n",
       "                 COUNTY_NAME COUNTY_TIMEZONE  DAMAGE_PROPERTY  DAMAGE_CROPS  \n",
       "0       EASTERN HILLSBOROUGH           EST-5              0.0           0.0  \n",
       "1       EASTERN HILLSBOROUGH           EST-5              0.0           0.0  \n",
       "2       EASTERN HILLSBOROUGH           EST-5              0.0           0.0  \n",
       "3       EASTERN HILLSBOROUGH           EST-5           3000.0           0.0  \n",
       "4       EASTERN HILLSBOROUGH           EST-5              0.0           0.0  \n",
       "...                      ...             ...              ...           ...  \n",
       "608742              MITCHELL           CST-6          65000.0       80000.0  \n",
       "608743                HOWARD           CST-6          50000.0       75000.0  \n",
       "608744            WINNESHIEK           CST-6           5000.0       10000.0  \n",
       "608745              MITCHELL           CST-6          80000.0      100000.0  \n",
       "608746                 ADAMS           CST-6          10000.0       20000.0  \n",
       "\n",
       "[608747 rows x 9 columns]"
      ]
     },
     "execution_count": 2,
     "metadata": {},
     "output_type": "execute_result"
    }
   ],
   "source": [
    "df = pd.read_csv('/Users/jkenglish/Desktop/StormEvents_Combined/StormEvents_Combined.csv')\n",
    "\n",
    "df"
   ]
  },
  {
   "cell_type": "code",
   "execution_count": 3,
   "id": "47410f45",
   "metadata": {},
   "outputs": [
    {
     "data": {
      "text/plain": [
       "(608747, 9)"
      ]
     },
     "execution_count": 3,
     "metadata": {},
     "output_type": "execute_result"
    }
   ],
   "source": [
    "df.shape"
   ]
  },
  {
   "cell_type": "code",
   "execution_count": 4,
   "id": "8f3544d8",
   "metadata": {},
   "outputs": [
    {
     "data": {
      "text/html": [
       "<div>\n",
       "<style scoped>\n",
       "    .dataframe tbody tr th:only-of-type {\n",
       "        vertical-align: middle;\n",
       "    }\n",
       "\n",
       "    .dataframe tbody tr th {\n",
       "        vertical-align: top;\n",
       "    }\n",
       "\n",
       "    .dataframe thead th {\n",
       "        text-align: right;\n",
       "    }\n",
       "</style>\n",
       "<table border=\"1\" class=\"dataframe\">\n",
       "  <thead>\n",
       "    <tr style=\"text-align: right;\">\n",
       "      <th></th>\n",
       "      <th>STATE</th>\n",
       "      <th>YEAR</th>\n",
       "      <th>MONTH_NAME</th>\n",
       "      <th>EVENT_TYPE</th>\n",
       "      <th>COUNTY_NAME</th>\n",
       "      <th>COUNTY_TIMEZONE</th>\n",
       "      <th>DAMAGE_PROPERTY</th>\n",
       "      <th>DAMAGE_CROPS</th>\n",
       "    </tr>\n",
       "  </thead>\n",
       "  <tbody>\n",
       "    <tr>\n",
       "      <th>0</th>\n",
       "      <td>NEW HAMPSHIRE</td>\n",
       "      <td>2013</td>\n",
       "      <td>February</td>\n",
       "      <td>Winter Weather</td>\n",
       "      <td>EASTERN HILLSBOROUGH</td>\n",
       "      <td>EST-5</td>\n",
       "      <td>0.0</td>\n",
       "      <td>0.0</td>\n",
       "    </tr>\n",
       "    <tr>\n",
       "      <th>1</th>\n",
       "      <td>NEW HAMPSHIRE</td>\n",
       "      <td>2013</td>\n",
       "      <td>December</td>\n",
       "      <td>Heavy Snow</td>\n",
       "      <td>EASTERN HILLSBOROUGH</td>\n",
       "      <td>EST-5</td>\n",
       "      <td>0.0</td>\n",
       "      <td>0.0</td>\n",
       "    </tr>\n",
       "    <tr>\n",
       "      <th>2</th>\n",
       "      <td>NEW HAMPSHIRE</td>\n",
       "      <td>2013</td>\n",
       "      <td>March</td>\n",
       "      <td>Heavy Snow</td>\n",
       "      <td>EASTERN HILLSBOROUGH</td>\n",
       "      <td>EST-5</td>\n",
       "      <td>0.0</td>\n",
       "      <td>0.0</td>\n",
       "    </tr>\n",
       "    <tr>\n",
       "      <th>3</th>\n",
       "      <td>NEW HAMPSHIRE</td>\n",
       "      <td>2013</td>\n",
       "      <td>October</td>\n",
       "      <td>Strong Wind</td>\n",
       "      <td>EASTERN HILLSBOROUGH</td>\n",
       "      <td>EST-5</td>\n",
       "      <td>3000.0</td>\n",
       "      <td>0.0</td>\n",
       "    </tr>\n",
       "    <tr>\n",
       "      <th>4</th>\n",
       "      <td>NEW HAMPSHIRE</td>\n",
       "      <td>2013</td>\n",
       "      <td>February</td>\n",
       "      <td>Heavy Snow</td>\n",
       "      <td>EASTERN HILLSBOROUGH</td>\n",
       "      <td>EST-5</td>\n",
       "      <td>0.0</td>\n",
       "      <td>0.0</td>\n",
       "    </tr>\n",
       "    <tr>\n",
       "      <th>...</th>\n",
       "      <td>...</td>\n",
       "      <td>...</td>\n",
       "      <td>...</td>\n",
       "      <td>...</td>\n",
       "      <td>...</td>\n",
       "      <td>...</td>\n",
       "      <td>...</td>\n",
       "      <td>...</td>\n",
       "    </tr>\n",
       "    <tr>\n",
       "      <th>608742</th>\n",
       "      <td>IOWA</td>\n",
       "      <td>2006</td>\n",
       "      <td>October</td>\n",
       "      <td>Hail</td>\n",
       "      <td>MITCHELL</td>\n",
       "      <td>CST-6</td>\n",
       "      <td>65000.0</td>\n",
       "      <td>80000.0</td>\n",
       "    </tr>\n",
       "    <tr>\n",
       "      <th>608743</th>\n",
       "      <td>IOWA</td>\n",
       "      <td>2006</td>\n",
       "      <td>October</td>\n",
       "      <td>Hail</td>\n",
       "      <td>HOWARD</td>\n",
       "      <td>CST-6</td>\n",
       "      <td>50000.0</td>\n",
       "      <td>75000.0</td>\n",
       "    </tr>\n",
       "    <tr>\n",
       "      <th>608744</th>\n",
       "      <td>IOWA</td>\n",
       "      <td>2006</td>\n",
       "      <td>October</td>\n",
       "      <td>Hail</td>\n",
       "      <td>WINNESHIEK</td>\n",
       "      <td>CST-6</td>\n",
       "      <td>5000.0</td>\n",
       "      <td>10000.0</td>\n",
       "    </tr>\n",
       "    <tr>\n",
       "      <th>608745</th>\n",
       "      <td>IOWA</td>\n",
       "      <td>2006</td>\n",
       "      <td>October</td>\n",
       "      <td>Hail</td>\n",
       "      <td>MITCHELL</td>\n",
       "      <td>CST-6</td>\n",
       "      <td>80000.0</td>\n",
       "      <td>100000.0</td>\n",
       "    </tr>\n",
       "    <tr>\n",
       "      <th>608746</th>\n",
       "      <td>WISCONSIN</td>\n",
       "      <td>2006</td>\n",
       "      <td>October</td>\n",
       "      <td>Hail</td>\n",
       "      <td>ADAMS</td>\n",
       "      <td>CST-6</td>\n",
       "      <td>10000.0</td>\n",
       "      <td>20000.0</td>\n",
       "    </tr>\n",
       "  </tbody>\n",
       "</table>\n",
       "<p>608747 rows × 8 columns</p>\n",
       "</div>"
      ],
      "text/plain": [
       "                STATE  YEAR MONTH_NAME      EVENT_TYPE           COUNTY_NAME  \\\n",
       "0       NEW HAMPSHIRE  2013   February  Winter Weather  EASTERN HILLSBOROUGH   \n",
       "1       NEW HAMPSHIRE  2013   December      Heavy Snow  EASTERN HILLSBOROUGH   \n",
       "2       NEW HAMPSHIRE  2013      March      Heavy Snow  EASTERN HILLSBOROUGH   \n",
       "3       NEW HAMPSHIRE  2013    October     Strong Wind  EASTERN HILLSBOROUGH   \n",
       "4       NEW HAMPSHIRE  2013   February      Heavy Snow  EASTERN HILLSBOROUGH   \n",
       "...               ...   ...        ...             ...                   ...   \n",
       "608742           IOWA  2006    October            Hail              MITCHELL   \n",
       "608743           IOWA  2006    October            Hail                HOWARD   \n",
       "608744           IOWA  2006    October            Hail            WINNESHIEK   \n",
       "608745           IOWA  2006    October            Hail              MITCHELL   \n",
       "608746      WISCONSIN  2006    October            Hail                 ADAMS   \n",
       "\n",
       "       COUNTY_TIMEZONE  DAMAGE_PROPERTY  DAMAGE_CROPS  \n",
       "0                EST-5              0.0           0.0  \n",
       "1                EST-5              0.0           0.0  \n",
       "2                EST-5              0.0           0.0  \n",
       "3                EST-5           3000.0           0.0  \n",
       "4                EST-5              0.0           0.0  \n",
       "...                ...              ...           ...  \n",
       "608742           CST-6          65000.0       80000.0  \n",
       "608743           CST-6          50000.0       75000.0  \n",
       "608744           CST-6           5000.0       10000.0  \n",
       "608745           CST-6          80000.0      100000.0  \n",
       "608746           CST-6          10000.0       20000.0  \n",
       "\n",
       "[608747 rows x 8 columns]"
      ]
     },
     "execution_count": 4,
     "metadata": {},
     "output_type": "execute_result"
    }
   ],
   "source": [
    "df2 = df.drop(['Unnamed: 0'],axis=1)\n",
    "\n",
    "df2"
   ]
  },
  {
   "cell_type": "code",
   "execution_count": 5,
   "id": "7d85a05b",
   "metadata": {},
   "outputs": [
    {
     "data": {
      "text/plain": [
       "(608747, 8)"
      ]
     },
     "execution_count": 5,
     "metadata": {},
     "output_type": "execute_result"
    }
   ],
   "source": [
    "df2.shape"
   ]
  },
  {
   "cell_type": "code",
   "execution_count": 6,
   "id": "f6d04af9",
   "metadata": {},
   "outputs": [
    {
     "data": {
      "text/plain": [
       "array(['NEW HAMPSHIRE', 'MISSOURI', 'KANSAS', 'TEXAS', 'HAWAII',\n",
       "       'COLORADO', 'ILLINOIS', 'MONTANA', 'MICHIGAN', 'WYOMING',\n",
       "       'MARYLAND', 'VIRGINIA', 'IOWA', 'NEBRASKA', 'LAKE ST CLAIR',\n",
       "       'LAKE HURON', 'DISTRICT OF COLUMBIA', 'NEW YORK', 'PENNSYLVANIA',\n",
       "       'ATLANTIC NORTH', 'GULF OF MEXICO', 'NEW MEXICO', 'OKLAHOMA',\n",
       "       'WEST VIRGINIA', 'WISCONSIN', 'MINNESOTA', 'ARKANSAS',\n",
       "       'MISSISSIPPI', 'GEORGIA', 'TENNESSEE', 'LAKE SUPERIOR',\n",
       "       'RHODE ISLAND', 'MASSACHUSETTS', 'FLORIDA', 'ALABAMA', 'MAINE',\n",
       "       'ARIZONA', 'OHIO', 'VERMONT', 'LOUISIANA', 'INDIANA',\n",
       "       'NORTH CAROLINA', 'SOUTH DAKOTA', 'CALIFORNIA', 'UTAH',\n",
       "       'NORTH DAKOTA', 'KENTUCKY', 'ATLANTIC SOUTH', 'IDAHO',\n",
       "       'CONNECTICUT', 'LAKE MICHIGAN', 'OREGON', 'ALASKA',\n",
       "       'SOUTH CAROLINA', 'AMERICAN SAMOA', 'NEVADA', 'WASHINGTON', 'GUAM',\n",
       "       'HAWAII WATERS', 'PUERTO RICO', 'VIRGIN ISLANDS', 'NEW JERSEY',\n",
       "       'LAKE ERIE', 'E PACIFIC', 'DELAWARE', 'LAKE ONTARIO',\n",
       "       'GULF OF ALASKA', 'ST LAWRENCE R'], dtype=object)"
      ]
     },
     "execution_count": 6,
     "metadata": {},
     "output_type": "execute_result"
    }
   ],
   "source": [
    "df2['STATE'].unique()"
   ]
  },
  {
   "cell_type": "code",
   "execution_count": 7,
   "id": "d7435bab",
   "metadata": {},
   "outputs": [
    {
     "data": {
      "text/plain": [
       "array(['Winter Weather', 'Heavy Snow', 'Strong Wind', 'High Wind',\n",
       "       'Blizzard', 'Hail', 'Flood', 'Thunderstorm Wind', 'Drought',\n",
       "       'High Surf', 'Winter Storm', 'Flash Flood', 'Tornado', 'Dense Fog',\n",
       "       'Marine Thunderstorm Wind', 'Debris Flow', 'Excessive Heat',\n",
       "       'Cold/Wind Chill', 'Lake-Effect Snow', 'Ice Storm',\n",
       "       'Marine High Wind', 'Heavy Rain', 'Funnel Cloud', 'Rip Current',\n",
       "       'Waterspout', 'Frost/Freeze', 'Wildfire', 'Lightning',\n",
       "       'Dust Storm', 'Heat', 'Extreme Cold/Wind Chill', 'Coastal Flood',\n",
       "       'Tropical Storm', 'Dust Devil', 'Avalanche', 'Marine Hail',\n",
       "       'Marine Dense Fog', 'Marine Strong Wind', 'Hurricane',\n",
       "       'Freezing Fog', 'Astronomical Low Tide', 'Sleet', 'Tsunami',\n",
       "       'Sneakerwave', 'Storm Surge/Tide', 'Dense Smoke', 'Seiche',\n",
       "       'Volcanic Ashfall', 'Landslide', 'Tropical Depression',\n",
       "       'Hurricane (Typhoon)', 'Marine Tropical Storm',\n",
       "       'Marine Hurricane/Typhoon', 'HAIL FLOODING',\n",
       "       'THUNDERSTORM WINDS/FLASH FLOOD', 'THUNDERSTORM WINDS LIGHTNING',\n",
       "       'THUNDERSTORM WIND/ TREES', 'THUNDERSTORM WIND/ TREE',\n",
       "       'THUNDERSTORM WINDS FUNNEL CLOU', 'TORNADO/WATERSPOUT',\n",
       "       'THUNDERSTORM WINDS/HEAVY RAIN', 'THUNDERSTORM WINDS HEAVY RAIN',\n",
       "       'THUNDERSTORM WINDS/ FLOOD', 'Lakeshore Flood',\n",
       "       'Marine Tropical Depression', 'TORNADOES, TSTM WIND, HAIL',\n",
       "       'THUNDERSTORM WINDS/FLOODING', 'HAIL/ICY ROADS',\n",
       "       'Marine Lightning'], dtype=object)"
      ]
     },
     "execution_count": 7,
     "metadata": {},
     "output_type": "execute_result"
    }
   ],
   "source": [
    "df2['EVENT_TYPE'].unique()"
   ]
  },
  {
   "cell_type": "code",
   "execution_count": 8,
   "id": "ad3a0e3f",
   "metadata": {},
   "outputs": [
    {
     "data": {
      "text/plain": [
       "array(['EASTERN HILLSBOROUGH', 'HARRISON', 'JOHNSON', ...,\n",
       "       'STONINGTON (DEER ISLE) ME TO MERRIMACK RIVER MA 25 TO 40NM',\n",
       "       'WEST COLUMBIA RIVER GORGE',\n",
       "       'LE WILLOWICK TO GENEVA ON THE LAKE OH BYD 5NM OFFSHORE TO INTL BORDER'],\n",
       "      dtype=object)"
      ]
     },
     "execution_count": 8,
     "metadata": {},
     "output_type": "execute_result"
    }
   ],
   "source": [
    "df2['COUNTY_NAME'].unique()"
   ]
  },
  {
   "cell_type": "code",
   "execution_count": 9,
   "id": "08b9a57c",
   "metadata": {},
   "outputs": [
    {
     "data": {
      "text/plain": [
       "array(['February', 'December', 'March', 'October', 'November', 'January',\n",
       "       'June', 'May', 'April', 'August', 'July', 'September'],\n",
       "      dtype=object)"
      ]
     },
     "execution_count": 9,
     "metadata": {},
     "output_type": "execute_result"
    }
   ],
   "source": [
    "df2['MONTH_NAME'].unique()"
   ]
  },
  {
   "cell_type": "code",
   "execution_count": 10,
   "id": "eb1aec5b",
   "metadata": {},
   "outputs": [
    {
     "data": {
      "text/plain": [
       "FRANKLIN                                                                 4704\n",
       "WASHINGTON                                                               4598\n",
       "JEFFERSON                                                                4509\n",
       "JACKSON                                                                  4358\n",
       "MADISON                                                                  3840\n",
       "                                                                         ... \n",
       "Michigan City in to New Buffalo MI                                          1\n",
       "Central Willamette Valley                                                   1\n",
       "Harris                                                                      1\n",
       "Lower Chehalis Valley Area                                                  1\n",
       "LE WILLOWICK TO GENEVA ON THE LAKE OH BYD 5NM OFFSHORE TO INTL BORDER       1\n",
       "Name: COUNTY_NAME, Length: 4893, dtype: int64"
      ]
     },
     "execution_count": 10,
     "metadata": {},
     "output_type": "execute_result"
    }
   ],
   "source": [
    "df2['COUNTY_NAME'].value_counts()"
   ]
  },
  {
   "cell_type": "code",
   "execution_count": 11,
   "id": "6c177387",
   "metadata": {},
   "outputs": [
    {
     "data": {
      "text/plain": [
       "(608747,)"
      ]
     },
     "execution_count": 11,
     "metadata": {},
     "output_type": "execute_result"
    }
   ],
   "source": [
    "df2['COUNTY_NAME'].shape"
   ]
  },
  {
   "cell_type": "code",
   "execution_count": 12,
   "id": "0af0dda4",
   "metadata": {},
   "outputs": [
    {
     "data": {
      "text/plain": [
       "0         EASTERN HILLSBOROUGH\n",
       "1         EASTERN HILLSBOROUGH\n",
       "2         EASTERN HILLSBOROUGH\n",
       "3         EASTERN HILLSBOROUGH\n",
       "4         EASTERN HILLSBOROUGH\n",
       "                  ...         \n",
       "608742                MITCHELL\n",
       "608743                  HOWARD\n",
       "608744              WINNESHIEK\n",
       "608745                MITCHELL\n",
       "608746                   ADAMS\n",
       "Name: COUNTY_NAME, Length: 608747, dtype: object"
      ]
     },
     "execution_count": 12,
     "metadata": {},
     "output_type": "execute_result"
    }
   ],
   "source": [
    "df2['COUNTY_NAME']"
   ]
  },
  {
   "cell_type": "code",
   "execution_count": 44,
   "id": "2a11ce2c",
   "metadata": {},
   "outputs": [],
   "source": [
    "#random_data = np.random.randint(0,608747,size=(608747,))\n",
    "\n",
    "#random_data"
   ]
  },
  {
   "cell_type": "code",
   "execution_count": 27,
   "id": "336df122",
   "metadata": {},
   "outputs": [],
   "source": [
    "#df2['COUNTY_NAME'] = random_data"
   ]
  },
  {
   "cell_type": "code",
   "execution_count": 13,
   "id": "d5ae4ac1",
   "metadata": {},
   "outputs": [
    {
     "data": {
      "text/html": [
       "<div>\n",
       "<style scoped>\n",
       "    .dataframe tbody tr th:only-of-type {\n",
       "        vertical-align: middle;\n",
       "    }\n",
       "\n",
       "    .dataframe tbody tr th {\n",
       "        vertical-align: top;\n",
       "    }\n",
       "\n",
       "    .dataframe thead th {\n",
       "        text-align: right;\n",
       "    }\n",
       "</style>\n",
       "<table border=\"1\" class=\"dataframe\">\n",
       "  <thead>\n",
       "    <tr style=\"text-align: right;\">\n",
       "      <th></th>\n",
       "      <th>STATE</th>\n",
       "      <th>YEAR</th>\n",
       "      <th>MONTH_NAME</th>\n",
       "      <th>EVENT_TYPE</th>\n",
       "      <th>DAMAGE_PROPERTY</th>\n",
       "    </tr>\n",
       "  </thead>\n",
       "  <tbody>\n",
       "    <tr>\n",
       "      <th>0</th>\n",
       "      <td>NEW HAMPSHIRE</td>\n",
       "      <td>2013</td>\n",
       "      <td>February</td>\n",
       "      <td>Winter Weather</td>\n",
       "      <td>0.0</td>\n",
       "    </tr>\n",
       "    <tr>\n",
       "      <th>1</th>\n",
       "      <td>NEW HAMPSHIRE</td>\n",
       "      <td>2013</td>\n",
       "      <td>December</td>\n",
       "      <td>Heavy Snow</td>\n",
       "      <td>0.0</td>\n",
       "    </tr>\n",
       "    <tr>\n",
       "      <th>2</th>\n",
       "      <td>NEW HAMPSHIRE</td>\n",
       "      <td>2013</td>\n",
       "      <td>March</td>\n",
       "      <td>Heavy Snow</td>\n",
       "      <td>0.0</td>\n",
       "    </tr>\n",
       "    <tr>\n",
       "      <th>3</th>\n",
       "      <td>NEW HAMPSHIRE</td>\n",
       "      <td>2013</td>\n",
       "      <td>October</td>\n",
       "      <td>Strong Wind</td>\n",
       "      <td>3000.0</td>\n",
       "    </tr>\n",
       "    <tr>\n",
       "      <th>4</th>\n",
       "      <td>NEW HAMPSHIRE</td>\n",
       "      <td>2013</td>\n",
       "      <td>February</td>\n",
       "      <td>Heavy Snow</td>\n",
       "      <td>0.0</td>\n",
       "    </tr>\n",
       "    <tr>\n",
       "      <th>...</th>\n",
       "      <td>...</td>\n",
       "      <td>...</td>\n",
       "      <td>...</td>\n",
       "      <td>...</td>\n",
       "      <td>...</td>\n",
       "    </tr>\n",
       "    <tr>\n",
       "      <th>608742</th>\n",
       "      <td>IOWA</td>\n",
       "      <td>2006</td>\n",
       "      <td>October</td>\n",
       "      <td>Hail</td>\n",
       "      <td>65000.0</td>\n",
       "    </tr>\n",
       "    <tr>\n",
       "      <th>608743</th>\n",
       "      <td>IOWA</td>\n",
       "      <td>2006</td>\n",
       "      <td>October</td>\n",
       "      <td>Hail</td>\n",
       "      <td>50000.0</td>\n",
       "    </tr>\n",
       "    <tr>\n",
       "      <th>608744</th>\n",
       "      <td>IOWA</td>\n",
       "      <td>2006</td>\n",
       "      <td>October</td>\n",
       "      <td>Hail</td>\n",
       "      <td>5000.0</td>\n",
       "    </tr>\n",
       "    <tr>\n",
       "      <th>608745</th>\n",
       "      <td>IOWA</td>\n",
       "      <td>2006</td>\n",
       "      <td>October</td>\n",
       "      <td>Hail</td>\n",
       "      <td>80000.0</td>\n",
       "    </tr>\n",
       "    <tr>\n",
       "      <th>608746</th>\n",
       "      <td>WISCONSIN</td>\n",
       "      <td>2006</td>\n",
       "      <td>October</td>\n",
       "      <td>Hail</td>\n",
       "      <td>10000.0</td>\n",
       "    </tr>\n",
       "  </tbody>\n",
       "</table>\n",
       "<p>608747 rows × 5 columns</p>\n",
       "</div>"
      ],
      "text/plain": [
       "                STATE  YEAR MONTH_NAME      EVENT_TYPE  DAMAGE_PROPERTY\n",
       "0       NEW HAMPSHIRE  2013   February  Winter Weather              0.0\n",
       "1       NEW HAMPSHIRE  2013   December      Heavy Snow              0.0\n",
       "2       NEW HAMPSHIRE  2013      March      Heavy Snow              0.0\n",
       "3       NEW HAMPSHIRE  2013    October     Strong Wind           3000.0\n",
       "4       NEW HAMPSHIRE  2013   February      Heavy Snow              0.0\n",
       "...               ...   ...        ...             ...              ...\n",
       "608742           IOWA  2006    October            Hail          65000.0\n",
       "608743           IOWA  2006    October            Hail          50000.0\n",
       "608744           IOWA  2006    October            Hail           5000.0\n",
       "608745           IOWA  2006    October            Hail          80000.0\n",
       "608746      WISCONSIN  2006    October            Hail          10000.0\n",
       "\n",
       "[608747 rows x 5 columns]"
      ]
     },
     "execution_count": 13,
     "metadata": {},
     "output_type": "execute_result"
    }
   ],
   "source": [
    "df3 = df2.drop(['COUNTY_TIMEZONE','DAMAGE_CROPS','COUNTY_NAME'],axis=1)\n",
    "\n",
    "df3\n"
   ]
  },
  {
   "cell_type": "code",
   "execution_count": 14,
   "id": "840e9c12",
   "metadata": {},
   "outputs": [],
   "source": [
    "label_encoder = LabelEncoder()\n",
    "\n",
    "\n",
    "df3['STATE'] = label_encoder.fit_transform(df3['STATE'])\n",
    "\n",
    "df3['EVENT_TYPE'] = label_encoder.fit_transform(df3['EVENT_TYPE'])\n",
    "\n",
    "df3['MONTH_NAME'] = label_encoder.fit_transform(df3['MONTH_NAME'])\n"
   ]
  },
  {
   "cell_type": "code",
   "execution_count": 15,
   "id": "4214a0fe",
   "metadata": {},
   "outputs": [
    {
     "data": {
      "text/html": [
       "<div>\n",
       "<style scoped>\n",
       "    .dataframe tbody tr th:only-of-type {\n",
       "        vertical-align: middle;\n",
       "    }\n",
       "\n",
       "    .dataframe tbody tr th {\n",
       "        vertical-align: top;\n",
       "    }\n",
       "\n",
       "    .dataframe thead th {\n",
       "        text-align: right;\n",
       "    }\n",
       "</style>\n",
       "<table border=\"1\" class=\"dataframe\">\n",
       "  <thead>\n",
       "    <tr style=\"text-align: right;\">\n",
       "      <th></th>\n",
       "      <th>STATE</th>\n",
       "      <th>YEAR</th>\n",
       "      <th>MONTH_NAME</th>\n",
       "      <th>EVENT_TYPE</th>\n",
       "      <th>DAMAGE_PROPERTY</th>\n",
       "    </tr>\n",
       "  </thead>\n",
       "  <tbody>\n",
       "    <tr>\n",
       "      <th>0</th>\n",
       "      <td>43</td>\n",
       "      <td>2013</td>\n",
       "      <td>3</td>\n",
       "      <td>68</td>\n",
       "      <td>0.0</td>\n",
       "    </tr>\n",
       "    <tr>\n",
       "      <th>1</th>\n",
       "      <td>43</td>\n",
       "      <td>2013</td>\n",
       "      <td>2</td>\n",
       "      <td>23</td>\n",
       "      <td>0.0</td>\n",
       "    </tr>\n",
       "    <tr>\n",
       "      <th>2</th>\n",
       "      <td>43</td>\n",
       "      <td>2013</td>\n",
       "      <td>7</td>\n",
       "      <td>23</td>\n",
       "      <td>0.0</td>\n",
       "    </tr>\n",
       "    <tr>\n",
       "      <th>3</th>\n",
       "      <td>43</td>\n",
       "      <td>2013</td>\n",
       "      <td>10</td>\n",
       "      <td>47</td>\n",
       "      <td>3000.0</td>\n",
       "    </tr>\n",
       "    <tr>\n",
       "      <th>4</th>\n",
       "      <td>43</td>\n",
       "      <td>2013</td>\n",
       "      <td>3</td>\n",
       "      <td>23</td>\n",
       "      <td>0.0</td>\n",
       "    </tr>\n",
       "    <tr>\n",
       "      <th>...</th>\n",
       "      <td>...</td>\n",
       "      <td>...</td>\n",
       "      <td>...</td>\n",
       "      <td>...</td>\n",
       "      <td>...</td>\n",
       "    </tr>\n",
       "    <tr>\n",
       "      <th>608742</th>\n",
       "      <td>23</td>\n",
       "      <td>2006</td>\n",
       "      <td>10</td>\n",
       "      <td>20</td>\n",
       "      <td>65000.0</td>\n",
       "    </tr>\n",
       "    <tr>\n",
       "      <th>608743</th>\n",
       "      <td>23</td>\n",
       "      <td>2006</td>\n",
       "      <td>10</td>\n",
       "      <td>20</td>\n",
       "      <td>50000.0</td>\n",
       "    </tr>\n",
       "    <tr>\n",
       "      <th>608744</th>\n",
       "      <td>23</td>\n",
       "      <td>2006</td>\n",
       "      <td>10</td>\n",
       "      <td>20</td>\n",
       "      <td>5000.0</td>\n",
       "    </tr>\n",
       "    <tr>\n",
       "      <th>608745</th>\n",
       "      <td>23</td>\n",
       "      <td>2006</td>\n",
       "      <td>10</td>\n",
       "      <td>20</td>\n",
       "      <td>80000.0</td>\n",
       "    </tr>\n",
       "    <tr>\n",
       "      <th>608746</th>\n",
       "      <td>66</td>\n",
       "      <td>2006</td>\n",
       "      <td>10</td>\n",
       "      <td>20</td>\n",
       "      <td>10000.0</td>\n",
       "    </tr>\n",
       "  </tbody>\n",
       "</table>\n",
       "<p>608747 rows × 5 columns</p>\n",
       "</div>"
      ],
      "text/plain": [
       "        STATE  YEAR  MONTH_NAME  EVENT_TYPE  DAMAGE_PROPERTY\n",
       "0          43  2013           3          68              0.0\n",
       "1          43  2013           2          23              0.0\n",
       "2          43  2013           7          23              0.0\n",
       "3          43  2013          10          47           3000.0\n",
       "4          43  2013           3          23              0.0\n",
       "...       ...   ...         ...         ...              ...\n",
       "608742     23  2006          10          20          65000.0\n",
       "608743     23  2006          10          20          50000.0\n",
       "608744     23  2006          10          20           5000.0\n",
       "608745     23  2006          10          20          80000.0\n",
       "608746     66  2006          10          20          10000.0\n",
       "\n",
       "[608747 rows x 5 columns]"
      ]
     },
     "execution_count": 15,
     "metadata": {},
     "output_type": "execute_result"
    }
   ],
   "source": [
    "df4 = df3\n",
    "\n",
    "df4\n",
    "\n"
   ]
  },
  {
   "cell_type": "code",
   "execution_count": 16,
   "id": "c6536df3",
   "metadata": {},
   "outputs": [
    {
     "data": {
      "text/plain": [
       "array([43, 39, 24, 59, 18,  8, 21, 40, 36, 67, 34, 63, 23, 41, 30, 27, 11,\n",
       "       46, 52,  5, 17, 45, 50, 65, 66, 37,  4, 38, 14, 58, 31, 54, 35, 13,\n",
       "        0, 33,  3, 49, 61, 32, 22, 47, 56,  7, 60, 48, 25,  6, 20,  9, 28,\n",
       "       51,  1, 55,  2, 42, 64, 15, 19, 53, 62, 44, 26, 12, 10, 29, 16, 57])"
      ]
     },
     "execution_count": 16,
     "metadata": {},
     "output_type": "execute_result"
    }
   ],
   "source": [
    "df4['STATE'].unique()"
   ]
  },
  {
   "cell_type": "code",
   "execution_count": 17,
   "id": "83b8cf05",
   "metadata": {},
   "outputs": [
    {
     "data": {
      "text/plain": [
       "array([ 3,  2,  7, 10,  9,  4,  6,  8,  0,  1,  5, 11])"
      ]
     },
     "execution_count": 17,
     "metadata": {},
     "output_type": "execute_result"
    }
   ],
   "source": [
    "df4['MONTH_NAME'].unique()"
   ]
  },
  {
   "cell_type": "code",
   "execution_count": 18,
   "id": "0e9b0474",
   "metadata": {},
   "outputs": [
    {
     "data": {
      "text/plain": [
       "array([68, 23, 47, 25,  2, 20, 14, 59,  8, 24, 67, 13, 60,  6, 39,  5, 11,\n",
       "        4, 29, 28, 35, 22, 17, 42, 65, 16, 66, 32, 10, 21, 12,  3, 62,  9,\n",
       "        1, 34, 33, 38, 26, 15,  0, 44, 63, 45, 46,  7, 43, 64, 31, 61, 27,\n",
       "       41, 36, 18, 54, 52, 49, 48, 50, 57, 56, 51, 53, 30, 40, 58, 55, 19,\n",
       "       37])"
      ]
     },
     "execution_count": 18,
     "metadata": {},
     "output_type": "execute_result"
    }
   ],
   "source": [
    "df4['EVENT_TYPE'].unique()"
   ]
  },
  {
   "cell_type": "code",
   "execution_count": 20,
   "id": "48094d9c",
   "metadata": {},
   "outputs": [],
   "source": [
    "df4.to_csv('/Users/jkenglish/Desktop/VS_Projects/Streamlit/df4.csv')\n",
    "\n",
    "\n"
   ]
  },
  {
   "cell_type": "code",
   "execution_count": 19,
   "id": "2fdbb566",
   "metadata": {},
   "outputs": [],
   "source": [
    "\n",
    "X = df4.drop('DAMAGE_PROPERTY',axis=1)\n",
    "\n",
    "y = df4['DAMAGE_PROPERTY']\n",
    "\n",
    "\n",
    "\n",
    "\n"
   ]
  },
  {
   "cell_type": "code",
   "execution_count": 20,
   "id": "f8e935a3",
   "metadata": {},
   "outputs": [],
   "source": [
    "X_train,X_test,y_train,y_test = train_test_split(X,y,test_size = 0.20)"
   ]
  },
  {
   "cell_type": "code",
   "execution_count": 21,
   "id": "5ed6ab41",
   "metadata": {},
   "outputs": [],
   "source": [
    "from sklearn.linear_model import LinearRegression\n",
    "\n",
    "linear_reg = LinearRegression()\n",
    "\n",
    "linear_reg.fit(X_train,y_train)\n",
    "\n",
    "predict_linear = linear_reg.predict(X_test)\n",
    "\n",
    "\n"
   ]
  },
  {
   "cell_type": "code",
   "execution_count": 22,
   "id": "6b8bc624",
   "metadata": {},
   "outputs": [
    {
     "name": "stdout",
     "output_type": "stream",
     "text": [
      "$39,956,655.13\n"
     ]
    }
   ],
   "source": [
    "error = np.sqrt(mean_squared_error(y_test,predict_linear))\n",
    "\n",
    "print(\"${:,.02f}\".format(error))"
   ]
  },
  {
   "cell_type": "code",
   "execution_count": 23,
   "id": "06dee341",
   "metadata": {},
   "outputs": [],
   "source": [
    "from sklearn.tree import DecisionTreeRegressor\n",
    "\n",
    "dec_tree_reg = DecisionTreeRegressor(random_state=0)\n",
    "\n",
    "dec_tree_reg.fit(X_train,y_train)\n",
    "\n",
    "predict_dectree = dec_tree_reg.predict(X_test)\n",
    "\n"
   ]
  },
  {
   "cell_type": "code",
   "execution_count": 24,
   "id": "74fdabed",
   "metadata": {},
   "outputs": [
    {
     "name": "stdout",
     "output_type": "stream",
     "text": [
      "$38,054,431.79\n"
     ]
    }
   ],
   "source": [
    "error = np.sqrt(mean_squared_error(y_test,predict_dectree))\n",
    "\n",
    "print(\"${:,.02f}\".format(error))"
   ]
  },
  {
   "cell_type": "code",
   "execution_count": 25,
   "id": "787a58ea",
   "metadata": {},
   "outputs": [],
   "source": [
    "from sklearn.ensemble import GradientBoostingRegressor\n",
    "\n",
    "grad_boost_reg = GradientBoostingRegressor(random_state=0)\n",
    "\n",
    "\n",
    "grad_boost_reg.fit(X_train,y_train)\n",
    "\n",
    "\n",
    "predict_grad_boost_reg = grad_boost_reg.predict(X_test)\n"
   ]
  },
  {
   "cell_type": "code",
   "execution_count": 26,
   "id": "487623bd",
   "metadata": {},
   "outputs": [
    {
     "name": "stdout",
     "output_type": "stream",
     "text": [
      "$39,721,021.58\n"
     ]
    }
   ],
   "source": [
    "error = np.sqrt(mean_squared_error(y_test,predict_grad_boost_reg))\n",
    "\n",
    "print(\"${:,.02f}\".format(error))"
   ]
  },
  {
   "cell_type": "code",
   "execution_count": 27,
   "id": "f7131189",
   "metadata": {},
   "outputs": [],
   "source": [
    "from sklearn.ensemble import AdaBoostRegressor\n",
    "\n",
    "ada_boost_reg = AdaBoostRegressor(random_state=0)\n",
    "\n",
    "\n",
    "ada_boost_reg.fit(X_train,y_train)\n",
    "\n",
    "\n",
    "predict_ada_boost_reg = ada_boost_reg.predict(X_test)\n",
    "\n",
    "\n",
    "\n"
   ]
  },
  {
   "cell_type": "code",
   "execution_count": 28,
   "id": "08018588",
   "metadata": {},
   "outputs": [
    {
     "name": "stdout",
     "output_type": "stream",
     "text": [
      "$50,930,435.88\n"
     ]
    }
   ],
   "source": [
    "error = np.sqrt(mean_squared_error(y_test,predict_ada_boost_reg))\n",
    "\n",
    "print(\"${:,.02f}\".format(error))"
   ]
  },
  {
   "cell_type": "code",
   "execution_count": 29,
   "id": "4c882a84",
   "metadata": {},
   "outputs": [],
   "source": [
    "from sklearn.neighbors import KNeighborsRegressor\n",
    "\n",
    "\n",
    "kneighbors_reg = KNeighborsRegressor()\n",
    "\n",
    "\n",
    "kneighbors_reg.fit(X_train,y_train)\n",
    "\n",
    "\n",
    "predict_kneighbors_reg = kneighbors_reg.predict(X_test)\n",
    "\n",
    "\n",
    "\n"
   ]
  },
  {
   "cell_type": "code",
   "execution_count": 30,
   "id": "9da2679a",
   "metadata": {},
   "outputs": [
    {
     "name": "stdout",
     "output_type": "stream",
     "text": [
      "$40,212,218.11\n"
     ]
    }
   ],
   "source": [
    "error = np.sqrt(mean_squared_error(y_test,predict_kneighbors_reg))\n",
    "\n",
    "print(\"${:,.02f}\".format(error))"
   ]
  },
  {
   "cell_type": "code",
   "execution_count": 31,
   "id": "477230b9",
   "metadata": {},
   "outputs": [],
   "source": [
    "from sklearn.ensemble import ExtraTreesRegressor\n",
    "\n",
    "\n",
    "extratrees_reg = ExtraTreesRegressor()\n",
    "\n",
    "\n",
    "extratrees_reg.fit(X_train,y_train)\n",
    "\n",
    "\n",
    "predict_extratrees_reg = extratrees_reg.predict(X_test)\n",
    "\n",
    "\n"
   ]
  },
  {
   "cell_type": "code",
   "execution_count": 32,
   "id": "e7d3befd",
   "metadata": {},
   "outputs": [
    {
     "name": "stdout",
     "output_type": "stream",
     "text": [
      "$38,051,267.20\n"
     ]
    }
   ],
   "source": [
    "error = np.sqrt(mean_squared_error(y_test,predict_extratrees_reg))\n",
    "\n",
    "print(\"${:,.02f}\".format(error))"
   ]
  },
  {
   "cell_type": "code",
   "execution_count": 33,
   "id": "be69e438",
   "metadata": {},
   "outputs": [
    {
     "name": "stdout",
     "output_type": "stream",
     "text": [
      "Requirement already satisfied: xgboost in ./Downloads/anaconda3/lib/python3.7/site-packages (1.6.2)\n",
      "Requirement already satisfied: numpy in ./Downloads/anaconda3/lib/python3.7/site-packages (from xgboost) (1.21.2)\n",
      "Requirement already satisfied: scipy in ./Downloads/anaconda3/lib/python3.7/site-packages (from xgboost) (1.7.1)\n",
      "Note: you may need to restart the kernel to use updated packages.\n"
     ]
    }
   ],
   "source": [
    "pip install xgboost"
   ]
  },
  {
   "cell_type": "code",
   "execution_count": 34,
   "id": "0e65c242",
   "metadata": {},
   "outputs": [],
   "source": [
    "#Xgboost Regressor\n",
    "\n",
    "\n",
    "from xgboost.sklearn import XGBRegressor\n",
    "\n",
    "xgb_reg = XGBRegressor()\n",
    "\n",
    "\n",
    "xgb_reg.fit(X_train,y_train)\n",
    "\n",
    "\n",
    "predict_xgb_reg = xgb_reg.predict(X_test)\n",
    "\n",
    "\n"
   ]
  },
  {
   "cell_type": "code",
   "execution_count": 35,
   "id": "9b6126d3",
   "metadata": {},
   "outputs": [
    {
     "name": "stdout",
     "output_type": "stream",
     "text": [
      "$38,037,018.79\n"
     ]
    }
   ],
   "source": [
    "error = np.sqrt(mean_squared_error(y_test,predict_xgb_reg))\n",
    "\n",
    "print(\"${:,.02f}\".format(error))\n"
   ]
  },
  {
   "cell_type": "code",
   "execution_count": 36,
   "id": "d1426004",
   "metadata": {},
   "outputs": [],
   "source": [
    "#Bayesian Ridge\n",
    "\n",
    "from sklearn.linear_model import BayesianRidge\n",
    "\n",
    "bayesian_ridge = BayesianRidge()\n",
    "\n",
    "\n",
    "bayesian_ridge.fit(X_train,y_train)\n",
    "\n",
    "\n",
    "predict_bayesian_ridge = bayesian_ridge.predict(X_test)\n",
    "\n",
    "\n"
   ]
  },
  {
   "cell_type": "code",
   "execution_count": 37,
   "id": "1ef4e4f6",
   "metadata": {},
   "outputs": [
    {
     "name": "stdout",
     "output_type": "stream",
     "text": [
      "$39,957,585.09\n"
     ]
    }
   ],
   "source": [
    "error = np.sqrt(mean_squared_error(y_test,predict_bayesian_ridge))\n",
    "\n",
    "print(\"${:,.02f}\".format(error))\n"
   ]
  },
  {
   "cell_type": "code",
   "execution_count": 42,
   "id": "64cbbdb7",
   "metadata": {},
   "outputs": [],
   "source": [
    "#Elastic Net Regression\n",
    "\n",
    "from sklearn.linear_model import ElasticNet\n",
    "\n",
    "elasticnet = ElasticNet()\n",
    "\n",
    "\n",
    "elasticnet.fit(X_train,y_train)\n",
    "\n",
    "\n",
    "predict_elasticnet = elasticnet.predict(X_test)\n",
    "\n",
    "\n"
   ]
  },
  {
   "cell_type": "code",
   "execution_count": 43,
   "id": "5aa4d0c1",
   "metadata": {},
   "outputs": [
    {
     "name": "stdout",
     "output_type": "stream",
     "text": [
      "$39,956,642.57\n"
     ]
    }
   ],
   "source": [
    "error = np.sqrt(mean_squared_error(y_test,predict_elasticnet))\n",
    "\n",
    "print(\"${:,.02f}\".format(error))\n"
   ]
  },
  {
   "cell_type": "code",
   "execution_count": 38,
   "id": "d8787273",
   "metadata": {},
   "outputs": [
    {
     "data": {
      "image/png": "[encoded data removed]",
      "text/plain": [
       "<Figure size 432x288 with 1 Axes>"
      ]
     },
     "metadata": {
      "needs_background": "light"
     },
     "output_type": "display_data"
    }
   ],
   "source": [
    "importances = grad_boost_reg.feature_importances_\n",
    "\n",
    "\n",
    "indices = np.argsort(importances)\n",
    "\n",
    "fig, ax = plt.subplots()\n",
    "ax.barh(range(len(importances)), importances[indices])\n",
    "ax.set_yticks(range(len(importances)))\n",
    "_ = ax.set_yticklabels(np.array(X.columns)[indices])"
   ]
  },
  {
   "cell_type": "code",
   "execution_count": null,
   "id": "d5dd35e7",
   "metadata": {},
   "outputs": [],
   "source": []
  }
 ],
 "metadata": {
  "kernelspec": {
   "display_name": "Python 3 (ipykernel)",
   "language": "python",
   "name": "python3"
  },
  "language_info": {
   "codemirror_mode": {
    "name": "ipython",
    "version": 3
   },
   "file_extension": ".py",
   "mimetype": "text/x-python",
   "name": "python",
   "nbconvert_exporter": "python",
   "pygments_lexer": "ipython3",
   "version": "3.7.11"
  }
 },
 "nbformat": 4,
 "nbformat_minor": 5
}
